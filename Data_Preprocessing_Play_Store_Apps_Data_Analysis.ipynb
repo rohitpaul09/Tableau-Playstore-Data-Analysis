{
  "nbformat": 4,
  "nbformat_minor": 0,
  "metadata": {
    "colab": {
      "provenance": []
    },
    "kernelspec": {
      "name": "python3",
      "display_name": "Python 3"
    },
    "language_info": {
      "name": "python"
    }
  },
  "cells": [
    {
      "cell_type": "markdown",
      "source": [
        "# **Data Preprocessing  - Play Store Apps Data Analysis**\n",
        "\n"
      ],
      "metadata": {
        "id": "vncDsAP0Gaoa"
      }
    },
    {
      "cell_type": "markdown",
      "source": [
        "# ***Let's Begin !***"
      ],
      "metadata": {
        "id": "O_i_v8NEhb9l"
      }
    },
    {
      "cell_type": "markdown",
      "source": [
        "## ***1. Know Your Data***"
      ],
      "metadata": {
        "id": "HhfV-JJviCcP"
      }
    },
    {
      "cell_type": "markdown",
      "source": [
        "### Import Libraries"
      ],
      "metadata": {
        "id": "Y3lxredqlCYt"
      }
    },
    {
      "cell_type": "code",
      "source": [
        "# Import Libraries\n",
        "import numpy as np\n",
        "import pandas as pd\n",
        "import seaborn as sns\n",
        "import matplotlib.pyplot as plt\n",
        "import warnings\n",
        "warnings.filterwarnings('ignore')\n"
      ],
      "metadata": {
        "id": "M8Vqi-pPk-HR"
      },
      "execution_count": null,
      "outputs": []
    },
    {
      "cell_type": "markdown",
      "source": [
        "### Dataset Loading"
      ],
      "metadata": {
        "id": "3RnN4peoiCZX"
      }
    },
    {
      "cell_type": "code",
      "source": [
        "# mount the drive and read required data\n",
        "from google.colab import drive\n",
        "drive.mount('/content/drive')\n"
      ],
      "metadata": {
        "id": "4CkvbW_SlZ_R",
        "colab": {
          "base_uri": "https://localhost:8080/"
        },
        "outputId": "0af62aa3-2919-48fe-b2d9-663dfa619c3c"
      },
      "execution_count": null,
      "outputs": [
        {
          "output_type": "stream",
          "name": "stdout",
          "text": [
            "Drive already mounted at /content/drive; to attempt to forcibly remount, call drive.mount(\"/content/drive\", force_remount=True).\n"
          ]
        }
      ]
    },
    {
      "cell_type": "code",
      "source": [
        "# Load Dataset\n",
        "df_psdata = pd.read_csv('/content/drive/MyDrive/Colab Notebooks/Almabetter/2_Numpy Module/chap_21_Capstone Project/Play Store Data.csv')\n",
        "df_review=pd.read_csv('/content/drive/MyDrive/Colab Notebooks/Almabetter/2_Numpy Module/chap_21_Capstone Project/User Reviews.csv')\n"
      ],
      "metadata": {
        "id": "BfJxHbqYuapZ"
      },
      "execution_count": null,
      "outputs": []
    },
    {
      "cell_type": "markdown",
      "source": [
        "### Dataset First View"
      ],
      "metadata": {
        "id": "x71ZqKXriCWQ"
      }
    },
    {
      "cell_type": "code",
      "source": [
        "# Dataset First Look\n",
        "# Display the Play Store App data\n",
        "print('Play Store Data Overview:')\n",
        "df_psdata.head()\n"
      ],
      "metadata": {
        "id": "LWNFOSvLl09H",
        "colab": {
          "base_uri": "https://localhost:8080/",
          "height": 379
        },
        "outputId": "fc4b8327-21f3-4a30-9c0a-f8e09116ffe7"
      },
      "execution_count": null,
      "outputs": [
        {
          "output_type": "stream",
          "name": "stdout",
          "text": [
            "Play Store Data Overview:\n"
          ]
        },
        {
          "output_type": "execute_result",
          "data": {
            "text/plain": [
              "                                                 App        Category  Rating  \\\n",
              "0     Photo Editor & Candy Camera & Grid & ScrapBook  ART_AND_DESIGN     4.1   \n",
              "1                                Coloring book moana  ART_AND_DESIGN     3.9   \n",
              "2  U Launcher Lite – FREE Live Cool Themes, Hide ...  ART_AND_DESIGN     4.7   \n",
              "3                              Sketch - Draw & Paint  ART_AND_DESIGN     4.5   \n",
              "4              Pixel Draw - Number Art Coloring Book  ART_AND_DESIGN     4.3   \n",
              "\n",
              "  Reviews  Size     Installs  Type Price Content Rating  \\\n",
              "0     159   19M      10,000+  Free     0       Everyone   \n",
              "1     967   14M     500,000+  Free     0       Everyone   \n",
              "2   87510  8.7M   5,000,000+  Free     0       Everyone   \n",
              "3  215644   25M  50,000,000+  Free     0           Teen   \n",
              "4     967  2.8M     100,000+  Free     0       Everyone   \n",
              "\n",
              "                      Genres      Last Updated         Current Ver  \\\n",
              "0               Art & Design   January 7, 2018               1.0.0   \n",
              "1  Art & Design;Pretend Play  January 15, 2018               2.0.0   \n",
              "2               Art & Design    August 1, 2018               1.2.4   \n",
              "3               Art & Design      June 8, 2018  Varies with device   \n",
              "4    Art & Design;Creativity     June 20, 2018                 1.1   \n",
              "\n",
              "    Android Ver  \n",
              "0  4.0.3 and up  \n",
              "1  4.0.3 and up  \n",
              "2  4.0.3 and up  \n",
              "3    4.2 and up  \n",
              "4    4.4 and up  "
            ],
            "text/html": [
              "\n",
              "  <div id=\"df-d417405a-ee5b-4794-a299-85f3d2b3c70a\" class=\"colab-df-container\">\n",
              "    <div>\n",
              "<style scoped>\n",
              "    .dataframe tbody tr th:only-of-type {\n",
              "        vertical-align: middle;\n",
              "    }\n",
              "\n",
              "    .dataframe tbody tr th {\n",
              "        vertical-align: top;\n",
              "    }\n",
              "\n",
              "    .dataframe thead th {\n",
              "        text-align: right;\n",
              "    }\n",
              "</style>\n",
              "<table border=\"1\" class=\"dataframe\">\n",
              "  <thead>\n",
              "    <tr style=\"text-align: right;\">\n",
              "      <th></th>\n",
              "      <th>App</th>\n",
              "      <th>Category</th>\n",
              "      <th>Rating</th>\n",
              "      <th>Reviews</th>\n",
              "      <th>Size</th>\n",
              "      <th>Installs</th>\n",
              "      <th>Type</th>\n",
              "      <th>Price</th>\n",
              "      <th>Content Rating</th>\n",
              "      <th>Genres</th>\n",
              "      <th>Last Updated</th>\n",
              "      <th>Current Ver</th>\n",
              "      <th>Android Ver</th>\n",
              "    </tr>\n",
              "  </thead>\n",
              "  <tbody>\n",
              "    <tr>\n",
              "      <th>0</th>\n",
              "      <td>Photo Editor &amp; Candy Camera &amp; Grid &amp; ScrapBook</td>\n",
              "      <td>ART_AND_DESIGN</td>\n",
              "      <td>4.1</td>\n",
              "      <td>159</td>\n",
              "      <td>19M</td>\n",
              "      <td>10,000+</td>\n",
              "      <td>Free</td>\n",
              "      <td>0</td>\n",
              "      <td>Everyone</td>\n",
              "      <td>Art &amp; Design</td>\n",
              "      <td>January 7, 2018</td>\n",
              "      <td>1.0.0</td>\n",
              "      <td>4.0.3 and up</td>\n",
              "    </tr>\n",
              "    <tr>\n",
              "      <th>1</th>\n",
              "      <td>Coloring book moana</td>\n",
              "      <td>ART_AND_DESIGN</td>\n",
              "      <td>3.9</td>\n",
              "      <td>967</td>\n",
              "      <td>14M</td>\n",
              "      <td>500,000+</td>\n",
              "      <td>Free</td>\n",
              "      <td>0</td>\n",
              "      <td>Everyone</td>\n",
              "      <td>Art &amp; Design;Pretend Play</td>\n",
              "      <td>January 15, 2018</td>\n",
              "      <td>2.0.0</td>\n",
              "      <td>4.0.3 and up</td>\n",
              "    </tr>\n",
              "    <tr>\n",
              "      <th>2</th>\n",
              "      <td>U Launcher Lite – FREE Live Cool Themes, Hide ...</td>\n",
              "      <td>ART_AND_DESIGN</td>\n",
              "      <td>4.7</td>\n",
              "      <td>87510</td>\n",
              "      <td>8.7M</td>\n",
              "      <td>5,000,000+</td>\n",
              "      <td>Free</td>\n",
              "      <td>0</td>\n",
              "      <td>Everyone</td>\n",
              "      <td>Art &amp; Design</td>\n",
              "      <td>August 1, 2018</td>\n",
              "      <td>1.2.4</td>\n",
              "      <td>4.0.3 and up</td>\n",
              "    </tr>\n",
              "    <tr>\n",
              "      <th>3</th>\n",
              "      <td>Sketch - Draw &amp; Paint</td>\n",
              "      <td>ART_AND_DESIGN</td>\n",
              "      <td>4.5</td>\n",
              "      <td>215644</td>\n",
              "      <td>25M</td>\n",
              "      <td>50,000,000+</td>\n",
              "      <td>Free</td>\n",
              "      <td>0</td>\n",
              "      <td>Teen</td>\n",
              "      <td>Art &amp; Design</td>\n",
              "      <td>June 8, 2018</td>\n",
              "      <td>Varies with device</td>\n",
              "      <td>4.2 and up</td>\n",
              "    </tr>\n",
              "    <tr>\n",
              "      <th>4</th>\n",
              "      <td>Pixel Draw - Number Art Coloring Book</td>\n",
              "      <td>ART_AND_DESIGN</td>\n",
              "      <td>4.3</td>\n",
              "      <td>967</td>\n",
              "      <td>2.8M</td>\n",
              "      <td>100,000+</td>\n",
              "      <td>Free</td>\n",
              "      <td>0</td>\n",
              "      <td>Everyone</td>\n",
              "      <td>Art &amp; Design;Creativity</td>\n",
              "      <td>June 20, 2018</td>\n",
              "      <td>1.1</td>\n",
              "      <td>4.4 and up</td>\n",
              "    </tr>\n",
              "  </tbody>\n",
              "</table>\n",
              "</div>\n",
              "    <div class=\"colab-df-buttons\">\n",
              "\n",
              "  <div class=\"colab-df-container\">\n",
              "    <button class=\"colab-df-convert\" onclick=\"convertToInteractive('df-d417405a-ee5b-4794-a299-85f3d2b3c70a')\"\n",
              "            title=\"Convert this dataframe to an interactive table.\"\n",
              "            style=\"display:none;\">\n",
              "\n",
              "  <svg xmlns=\"http://www.w3.org/2000/svg\" height=\"24px\" viewBox=\"0 -960 960 960\">\n",
              "    <path d=\"M120-120v-720h720v720H120Zm60-500h600v-160H180v160Zm220 220h160v-160H400v160Zm0 220h160v-160H400v160ZM180-400h160v-160H180v160Zm440 0h160v-160H620v160ZM180-180h160v-160H180v160Zm440 0h160v-160H620v160Z\"/>\n",
              "  </svg>\n",
              "    </button>\n",
              "\n",
              "  <style>\n",
              "    .colab-df-container {\n",
              "      display:flex;\n",
              "      gap: 12px;\n",
              "    }\n",
              "\n",
              "    .colab-df-convert {\n",
              "      background-color: #E8F0FE;\n",
              "      border: none;\n",
              "      border-radius: 50%;\n",
              "      cursor: pointer;\n",
              "      display: none;\n",
              "      fill: #1967D2;\n",
              "      height: 32px;\n",
              "      padding: 0 0 0 0;\n",
              "      width: 32px;\n",
              "    }\n",
              "\n",
              "    .colab-df-convert:hover {\n",
              "      background-color: #E2EBFA;\n",
              "      box-shadow: 0px 1px 2px rgba(60, 64, 67, 0.3), 0px 1px 3px 1px rgba(60, 64, 67, 0.15);\n",
              "      fill: #174EA6;\n",
              "    }\n",
              "\n",
              "    .colab-df-buttons div {\n",
              "      margin-bottom: 4px;\n",
              "    }\n",
              "\n",
              "    [theme=dark] .colab-df-convert {\n",
              "      background-color: #3B4455;\n",
              "      fill: #D2E3FC;\n",
              "    }\n",
              "\n",
              "    [theme=dark] .colab-df-convert:hover {\n",
              "      background-color: #434B5C;\n",
              "      box-shadow: 0px 1px 3px 1px rgba(0, 0, 0, 0.15);\n",
              "      filter: drop-shadow(0px 1px 2px rgba(0, 0, 0, 0.3));\n",
              "      fill: #FFFFFF;\n",
              "    }\n",
              "  </style>\n",
              "\n",
              "    <script>\n",
              "      const buttonEl =\n",
              "        document.querySelector('#df-d417405a-ee5b-4794-a299-85f3d2b3c70a button.colab-df-convert');\n",
              "      buttonEl.style.display =\n",
              "        google.colab.kernel.accessAllowed ? 'block' : 'none';\n",
              "\n",
              "      async function convertToInteractive(key) {\n",
              "        const element = document.querySelector('#df-d417405a-ee5b-4794-a299-85f3d2b3c70a');\n",
              "        const dataTable =\n",
              "          await google.colab.kernel.invokeFunction('convertToInteractive',\n",
              "                                                    [key], {});\n",
              "        if (!dataTable) return;\n",
              "\n",
              "        const docLinkHtml = 'Like what you see? Visit the ' +\n",
              "          '<a target=\"_blank\" href=https://colab.research.google.com/notebooks/data_table.ipynb>data table notebook</a>'\n",
              "          + ' to learn more about interactive tables.';\n",
              "        element.innerHTML = '';\n",
              "        dataTable['output_type'] = 'display_data';\n",
              "        await google.colab.output.renderOutput(dataTable, element);\n",
              "        const docLink = document.createElement('div');\n",
              "        docLink.innerHTML = docLinkHtml;\n",
              "        element.appendChild(docLink);\n",
              "      }\n",
              "    </script>\n",
              "  </div>\n",
              "\n",
              "\n",
              "<div id=\"df-5d5844b4-9248-4100-afff-c2082cac15d2\">\n",
              "  <button class=\"colab-df-quickchart\" onclick=\"quickchart('df-5d5844b4-9248-4100-afff-c2082cac15d2')\"\n",
              "            title=\"Suggest charts\"\n",
              "            style=\"display:none;\">\n",
              "\n",
              "<svg xmlns=\"http://www.w3.org/2000/svg\" height=\"24px\"viewBox=\"0 0 24 24\"\n",
              "     width=\"24px\">\n",
              "    <g>\n",
              "        <path d=\"M19 3H5c-1.1 0-2 .9-2 2v14c0 1.1.9 2 2 2h14c1.1 0 2-.9 2-2V5c0-1.1-.9-2-2-2zM9 17H7v-7h2v7zm4 0h-2V7h2v10zm4 0h-2v-4h2v4z\"/>\n",
              "    </g>\n",
              "</svg>\n",
              "  </button>\n",
              "\n",
              "<style>\n",
              "  .colab-df-quickchart {\n",
              "      --bg-color: #E8F0FE;\n",
              "      --fill-color: #1967D2;\n",
              "      --hover-bg-color: #E2EBFA;\n",
              "      --hover-fill-color: #174EA6;\n",
              "      --disabled-fill-color: #AAA;\n",
              "      --disabled-bg-color: #DDD;\n",
              "  }\n",
              "\n",
              "  [theme=dark] .colab-df-quickchart {\n",
              "      --bg-color: #3B4455;\n",
              "      --fill-color: #D2E3FC;\n",
              "      --hover-bg-color: #434B5C;\n",
              "      --hover-fill-color: #FFFFFF;\n",
              "      --disabled-bg-color: #3B4455;\n",
              "      --disabled-fill-color: #666;\n",
              "  }\n",
              "\n",
              "  .colab-df-quickchart {\n",
              "    background-color: var(--bg-color);\n",
              "    border: none;\n",
              "    border-radius: 50%;\n",
              "    cursor: pointer;\n",
              "    display: none;\n",
              "    fill: var(--fill-color);\n",
              "    height: 32px;\n",
              "    padding: 0;\n",
              "    width: 32px;\n",
              "  }\n",
              "\n",
              "  .colab-df-quickchart:hover {\n",
              "    background-color: var(--hover-bg-color);\n",
              "    box-shadow: 0 1px 2px rgba(60, 64, 67, 0.3), 0 1px 3px 1px rgba(60, 64, 67, 0.15);\n",
              "    fill: var(--button-hover-fill-color);\n",
              "  }\n",
              "\n",
              "  .colab-df-quickchart-complete:disabled,\n",
              "  .colab-df-quickchart-complete:disabled:hover {\n",
              "    background-color: var(--disabled-bg-color);\n",
              "    fill: var(--disabled-fill-color);\n",
              "    box-shadow: none;\n",
              "  }\n",
              "\n",
              "  .colab-df-spinner {\n",
              "    border: 2px solid var(--fill-color);\n",
              "    border-color: transparent;\n",
              "    border-bottom-color: var(--fill-color);\n",
              "    animation:\n",
              "      spin 1s steps(1) infinite;\n",
              "  }\n",
              "\n",
              "  @keyframes spin {\n",
              "    0% {\n",
              "      border-color: transparent;\n",
              "      border-bottom-color: var(--fill-color);\n",
              "      border-left-color: var(--fill-color);\n",
              "    }\n",
              "    20% {\n",
              "      border-color: transparent;\n",
              "      border-left-color: var(--fill-color);\n",
              "      border-top-color: var(--fill-color);\n",
              "    }\n",
              "    30% {\n",
              "      border-color: transparent;\n",
              "      border-left-color: var(--fill-color);\n",
              "      border-top-color: var(--fill-color);\n",
              "      border-right-color: var(--fill-color);\n",
              "    }\n",
              "    40% {\n",
              "      border-color: transparent;\n",
              "      border-right-color: var(--fill-color);\n",
              "      border-top-color: var(--fill-color);\n",
              "    }\n",
              "    60% {\n",
              "      border-color: transparent;\n",
              "      border-right-color: var(--fill-color);\n",
              "    }\n",
              "    80% {\n",
              "      border-color: transparent;\n",
              "      border-right-color: var(--fill-color);\n",
              "      border-bottom-color: var(--fill-color);\n",
              "    }\n",
              "    90% {\n",
              "      border-color: transparent;\n",
              "      border-bottom-color: var(--fill-color);\n",
              "    }\n",
              "  }\n",
              "</style>\n",
              "\n",
              "  <script>\n",
              "    async function quickchart(key) {\n",
              "      const quickchartButtonEl =\n",
              "        document.querySelector('#' + key + ' button');\n",
              "      quickchartButtonEl.disabled = true;  // To prevent multiple clicks.\n",
              "      quickchartButtonEl.classList.add('colab-df-spinner');\n",
              "      try {\n",
              "        const charts = await google.colab.kernel.invokeFunction(\n",
              "            'suggestCharts', [key], {});\n",
              "      } catch (error) {\n",
              "        console.error('Error during call to suggestCharts:', error);\n",
              "      }\n",
              "      quickchartButtonEl.classList.remove('colab-df-spinner');\n",
              "      quickchartButtonEl.classList.add('colab-df-quickchart-complete');\n",
              "    }\n",
              "    (() => {\n",
              "      let quickchartButtonEl =\n",
              "        document.querySelector('#df-5d5844b4-9248-4100-afff-c2082cac15d2 button');\n",
              "      quickchartButtonEl.style.display =\n",
              "        google.colab.kernel.accessAllowed ? 'block' : 'none';\n",
              "    })();\n",
              "  </script>\n",
              "</div>\n",
              "\n",
              "    </div>\n",
              "  </div>\n"
            ]
          },
          "metadata": {},
          "execution_count": 31
        }
      ]
    },
    {
      "cell_type": "code",
      "source": [
        "# Display the User Reviews data\n",
        "print('User Reviews Data Overview:')\n",
        "df_review.head()\n"
      ],
      "metadata": {
        "colab": {
          "base_uri": "https://localhost:8080/",
          "height": 223
        },
        "id": "qa9rIC9pwl8D",
        "outputId": "151c9dce-39b6-40c2-9d11-d5769b019358"
      },
      "execution_count": null,
      "outputs": [
        {
          "output_type": "stream",
          "name": "stdout",
          "text": [
            "User Reviews Data Overview:\n"
          ]
        },
        {
          "output_type": "execute_result",
          "data": {
            "text/plain": [
              "                     App                                  Translated_Review  \\\n",
              "0  10 Best Foods for You  I like eat delicious food. That's I'm cooking ...   \n",
              "1  10 Best Foods for You    This help eating healthy exercise regular basis   \n",
              "2  10 Best Foods for You                                                NaN   \n",
              "3  10 Best Foods for You         Works great especially going grocery store   \n",
              "4  10 Best Foods for You                                       Best idea us   \n",
              "\n",
              "  Sentiment  Sentiment_Polarity  Sentiment_Subjectivity  \n",
              "0  Positive                1.00                0.533333  \n",
              "1  Positive                0.25                0.288462  \n",
              "2       NaN                 NaN                     NaN  \n",
              "3  Positive                0.40                0.875000  \n",
              "4  Positive                1.00                0.300000  "
            ],
            "text/html": [
              "\n",
              "  <div id=\"df-7704ccb4-0566-48c4-b1f1-9f58c718a1cf\" class=\"colab-df-container\">\n",
              "    <div>\n",
              "<style scoped>\n",
              "    .dataframe tbody tr th:only-of-type {\n",
              "        vertical-align: middle;\n",
              "    }\n",
              "\n",
              "    .dataframe tbody tr th {\n",
              "        vertical-align: top;\n",
              "    }\n",
              "\n",
              "    .dataframe thead th {\n",
              "        text-align: right;\n",
              "    }\n",
              "</style>\n",
              "<table border=\"1\" class=\"dataframe\">\n",
              "  <thead>\n",
              "    <tr style=\"text-align: right;\">\n",
              "      <th></th>\n",
              "      <th>App</th>\n",
              "      <th>Translated_Review</th>\n",
              "      <th>Sentiment</th>\n",
              "      <th>Sentiment_Polarity</th>\n",
              "      <th>Sentiment_Subjectivity</th>\n",
              "    </tr>\n",
              "  </thead>\n",
              "  <tbody>\n",
              "    <tr>\n",
              "      <th>0</th>\n",
              "      <td>10 Best Foods for You</td>\n",
              "      <td>I like eat delicious food. That's I'm cooking ...</td>\n",
              "      <td>Positive</td>\n",
              "      <td>1.00</td>\n",
              "      <td>0.533333</td>\n",
              "    </tr>\n",
              "    <tr>\n",
              "      <th>1</th>\n",
              "      <td>10 Best Foods for You</td>\n",
              "      <td>This help eating healthy exercise regular basis</td>\n",
              "      <td>Positive</td>\n",
              "      <td>0.25</td>\n",
              "      <td>0.288462</td>\n",
              "    </tr>\n",
              "    <tr>\n",
              "      <th>2</th>\n",
              "      <td>10 Best Foods for You</td>\n",
              "      <td>NaN</td>\n",
              "      <td>NaN</td>\n",
              "      <td>NaN</td>\n",
              "      <td>NaN</td>\n",
              "    </tr>\n",
              "    <tr>\n",
              "      <th>3</th>\n",
              "      <td>10 Best Foods for You</td>\n",
              "      <td>Works great especially going grocery store</td>\n",
              "      <td>Positive</td>\n",
              "      <td>0.40</td>\n",
              "      <td>0.875000</td>\n",
              "    </tr>\n",
              "    <tr>\n",
              "      <th>4</th>\n",
              "      <td>10 Best Foods for You</td>\n",
              "      <td>Best idea us</td>\n",
              "      <td>Positive</td>\n",
              "      <td>1.00</td>\n",
              "      <td>0.300000</td>\n",
              "    </tr>\n",
              "  </tbody>\n",
              "</table>\n",
              "</div>\n",
              "    <div class=\"colab-df-buttons\">\n",
              "\n",
              "  <div class=\"colab-df-container\">\n",
              "    <button class=\"colab-df-convert\" onclick=\"convertToInteractive('df-7704ccb4-0566-48c4-b1f1-9f58c718a1cf')\"\n",
              "            title=\"Convert this dataframe to an interactive table.\"\n",
              "            style=\"display:none;\">\n",
              "\n",
              "  <svg xmlns=\"http://www.w3.org/2000/svg\" height=\"24px\" viewBox=\"0 -960 960 960\">\n",
              "    <path d=\"M120-120v-720h720v720H120Zm60-500h600v-160H180v160Zm220 220h160v-160H400v160Zm0 220h160v-160H400v160ZM180-400h160v-160H180v160Zm440 0h160v-160H620v160ZM180-180h160v-160H180v160Zm440 0h160v-160H620v160Z\"/>\n",
              "  </svg>\n",
              "    </button>\n",
              "\n",
              "  <style>\n",
              "    .colab-df-container {\n",
              "      display:flex;\n",
              "      gap: 12px;\n",
              "    }\n",
              "\n",
              "    .colab-df-convert {\n",
              "      background-color: #E8F0FE;\n",
              "      border: none;\n",
              "      border-radius: 50%;\n",
              "      cursor: pointer;\n",
              "      display: none;\n",
              "      fill: #1967D2;\n",
              "      height: 32px;\n",
              "      padding: 0 0 0 0;\n",
              "      width: 32px;\n",
              "    }\n",
              "\n",
              "    .colab-df-convert:hover {\n",
              "      background-color: #E2EBFA;\n",
              "      box-shadow: 0px 1px 2px rgba(60, 64, 67, 0.3), 0px 1px 3px 1px rgba(60, 64, 67, 0.15);\n",
              "      fill: #174EA6;\n",
              "    }\n",
              "\n",
              "    .colab-df-buttons div {\n",
              "      margin-bottom: 4px;\n",
              "    }\n",
              "\n",
              "    [theme=dark] .colab-df-convert {\n",
              "      background-color: #3B4455;\n",
              "      fill: #D2E3FC;\n",
              "    }\n",
              "\n",
              "    [theme=dark] .colab-df-convert:hover {\n",
              "      background-color: #434B5C;\n",
              "      box-shadow: 0px 1px 3px 1px rgba(0, 0, 0, 0.15);\n",
              "      filter: drop-shadow(0px 1px 2px rgba(0, 0, 0, 0.3));\n",
              "      fill: #FFFFFF;\n",
              "    }\n",
              "  </style>\n",
              "\n",
              "    <script>\n",
              "      const buttonEl =\n",
              "        document.querySelector('#df-7704ccb4-0566-48c4-b1f1-9f58c718a1cf button.colab-df-convert');\n",
              "      buttonEl.style.display =\n",
              "        google.colab.kernel.accessAllowed ? 'block' : 'none';\n",
              "\n",
              "      async function convertToInteractive(key) {\n",
              "        const element = document.querySelector('#df-7704ccb4-0566-48c4-b1f1-9f58c718a1cf');\n",
              "        const dataTable =\n",
              "          await google.colab.kernel.invokeFunction('convertToInteractive',\n",
              "                                                    [key], {});\n",
              "        if (!dataTable) return;\n",
              "\n",
              "        const docLinkHtml = 'Like what you see? Visit the ' +\n",
              "          '<a target=\"_blank\" href=https://colab.research.google.com/notebooks/data_table.ipynb>data table notebook</a>'\n",
              "          + ' to learn more about interactive tables.';\n",
              "        element.innerHTML = '';\n",
              "        dataTable['output_type'] = 'display_data';\n",
              "        await google.colab.output.renderOutput(dataTable, element);\n",
              "        const docLink = document.createElement('div');\n",
              "        docLink.innerHTML = docLinkHtml;\n",
              "        element.appendChild(docLink);\n",
              "      }\n",
              "    </script>\n",
              "  </div>\n",
              "\n",
              "\n",
              "<div id=\"df-43e9fc0a-34c6-4fcf-bdcd-76b23f3a65ff\">\n",
              "  <button class=\"colab-df-quickchart\" onclick=\"quickchart('df-43e9fc0a-34c6-4fcf-bdcd-76b23f3a65ff')\"\n",
              "            title=\"Suggest charts\"\n",
              "            style=\"display:none;\">\n",
              "\n",
              "<svg xmlns=\"http://www.w3.org/2000/svg\" height=\"24px\"viewBox=\"0 0 24 24\"\n",
              "     width=\"24px\">\n",
              "    <g>\n",
              "        <path d=\"M19 3H5c-1.1 0-2 .9-2 2v14c0 1.1.9 2 2 2h14c1.1 0 2-.9 2-2V5c0-1.1-.9-2-2-2zM9 17H7v-7h2v7zm4 0h-2V7h2v10zm4 0h-2v-4h2v4z\"/>\n",
              "    </g>\n",
              "</svg>\n",
              "  </button>\n",
              "\n",
              "<style>\n",
              "  .colab-df-quickchart {\n",
              "      --bg-color: #E8F0FE;\n",
              "      --fill-color: #1967D2;\n",
              "      --hover-bg-color: #E2EBFA;\n",
              "      --hover-fill-color: #174EA6;\n",
              "      --disabled-fill-color: #AAA;\n",
              "      --disabled-bg-color: #DDD;\n",
              "  }\n",
              "\n",
              "  [theme=dark] .colab-df-quickchart {\n",
              "      --bg-color: #3B4455;\n",
              "      --fill-color: #D2E3FC;\n",
              "      --hover-bg-color: #434B5C;\n",
              "      --hover-fill-color: #FFFFFF;\n",
              "      --disabled-bg-color: #3B4455;\n",
              "      --disabled-fill-color: #666;\n",
              "  }\n",
              "\n",
              "  .colab-df-quickchart {\n",
              "    background-color: var(--bg-color);\n",
              "    border: none;\n",
              "    border-radius: 50%;\n",
              "    cursor: pointer;\n",
              "    display: none;\n",
              "    fill: var(--fill-color);\n",
              "    height: 32px;\n",
              "    padding: 0;\n",
              "    width: 32px;\n",
              "  }\n",
              "\n",
              "  .colab-df-quickchart:hover {\n",
              "    background-color: var(--hover-bg-color);\n",
              "    box-shadow: 0 1px 2px rgba(60, 64, 67, 0.3), 0 1px 3px 1px rgba(60, 64, 67, 0.15);\n",
              "    fill: var(--button-hover-fill-color);\n",
              "  }\n",
              "\n",
              "  .colab-df-quickchart-complete:disabled,\n",
              "  .colab-df-quickchart-complete:disabled:hover {\n",
              "    background-color: var(--disabled-bg-color);\n",
              "    fill: var(--disabled-fill-color);\n",
              "    box-shadow: none;\n",
              "  }\n",
              "\n",
              "  .colab-df-spinner {\n",
              "    border: 2px solid var(--fill-color);\n",
              "    border-color: transparent;\n",
              "    border-bottom-color: var(--fill-color);\n",
              "    animation:\n",
              "      spin 1s steps(1) infinite;\n",
              "  }\n",
              "\n",
              "  @keyframes spin {\n",
              "    0% {\n",
              "      border-color: transparent;\n",
              "      border-bottom-color: var(--fill-color);\n",
              "      border-left-color: var(--fill-color);\n",
              "    }\n",
              "    20% {\n",
              "      border-color: transparent;\n",
              "      border-left-color: var(--fill-color);\n",
              "      border-top-color: var(--fill-color);\n",
              "    }\n",
              "    30% {\n",
              "      border-color: transparent;\n",
              "      border-left-color: var(--fill-color);\n",
              "      border-top-color: var(--fill-color);\n",
              "      border-right-color: var(--fill-color);\n",
              "    }\n",
              "    40% {\n",
              "      border-color: transparent;\n",
              "      border-right-color: var(--fill-color);\n",
              "      border-top-color: var(--fill-color);\n",
              "    }\n",
              "    60% {\n",
              "      border-color: transparent;\n",
              "      border-right-color: var(--fill-color);\n",
              "    }\n",
              "    80% {\n",
              "      border-color: transparent;\n",
              "      border-right-color: var(--fill-color);\n",
              "      border-bottom-color: var(--fill-color);\n",
              "    }\n",
              "    90% {\n",
              "      border-color: transparent;\n",
              "      border-bottom-color: var(--fill-color);\n",
              "    }\n",
              "  }\n",
              "</style>\n",
              "\n",
              "  <script>\n",
              "    async function quickchart(key) {\n",
              "      const quickchartButtonEl =\n",
              "        document.querySelector('#' + key + ' button');\n",
              "      quickchartButtonEl.disabled = true;  // To prevent multiple clicks.\n",
              "      quickchartButtonEl.classList.add('colab-df-spinner');\n",
              "      try {\n",
              "        const charts = await google.colab.kernel.invokeFunction(\n",
              "            'suggestCharts', [key], {});\n",
              "      } catch (error) {\n",
              "        console.error('Error during call to suggestCharts:', error);\n",
              "      }\n",
              "      quickchartButtonEl.classList.remove('colab-df-spinner');\n",
              "      quickchartButtonEl.classList.add('colab-df-quickchart-complete');\n",
              "    }\n",
              "    (() => {\n",
              "      let quickchartButtonEl =\n",
              "        document.querySelector('#df-43e9fc0a-34c6-4fcf-bdcd-76b23f3a65ff button');\n",
              "      quickchartButtonEl.style.display =\n",
              "        google.colab.kernel.accessAllowed ? 'block' : 'none';\n",
              "    })();\n",
              "  </script>\n",
              "</div>\n",
              "\n",
              "    </div>\n",
              "  </div>\n"
            ]
          },
          "metadata": {},
          "execution_count": 32
        }
      ]
    },
    {
      "cell_type": "markdown",
      "source": [
        "### Dataset Rows & Columns count"
      ],
      "metadata": {
        "id": "7hBIi_osiCS2"
      }
    },
    {
      "cell_type": "code",
      "source": [
        "# Dataset Rows & Columns count\n",
        "print('Play Store Data Rows count:',df_psdata.shape[0])\n",
        "print('Play Store Data Columns count:',df_psdata.shape[1])\n",
        "print('User Reviews Data Rows count:',df_review.shape[0])\n",
        "print('User Reviews Data Columns count:',df_review.shape[1])\n"
      ],
      "metadata": {
        "id": "Kllu7SJgmLij",
        "colab": {
          "base_uri": "https://localhost:8080/"
        },
        "outputId": "115f0cba-35ba-4df0-8309-c36224440a2e"
      },
      "execution_count": null,
      "outputs": [
        {
          "output_type": "stream",
          "name": "stdout",
          "text": [
            "Play Store Data Rows count: 10841\n",
            "Play Store Data Columns count: 13\n",
            "User Reviews Data Rows count: 64295\n",
            "User Reviews Data Columns count: 5\n"
          ]
        }
      ]
    },
    {
      "cell_type": "markdown",
      "source": [
        "### Dataset Information"
      ],
      "metadata": {
        "id": "JlHwYmJAmNHm"
      }
    },
    {
      "cell_type": "code",
      "source": [
        "# Dataset Info\n",
        "print('Play Store Data Info:')\n",
        "df_psdata.info()\n",
        "print('\\n')\n",
        "print('User Reviews Data Info:')\n",
        "df_review.info()\n"
      ],
      "metadata": {
        "id": "e9hRXRi6meOf",
        "colab": {
          "base_uri": "https://localhost:8080/"
        },
        "outputId": "0b7d5962-4ad0-470c-ccb6-42c096572223"
      },
      "execution_count": null,
      "outputs": [
        {
          "output_type": "stream",
          "name": "stdout",
          "text": [
            "Play Store Data Info:\n",
            "<class 'pandas.core.frame.DataFrame'>\n",
            "RangeIndex: 10841 entries, 0 to 10840\n",
            "Data columns (total 13 columns):\n",
            " #   Column          Non-Null Count  Dtype  \n",
            "---  ------          --------------  -----  \n",
            " 0   App             10841 non-null  object \n",
            " 1   Category        10841 non-null  object \n",
            " 2   Rating          9367 non-null   float64\n",
            " 3   Reviews         10841 non-null  object \n",
            " 4   Size            10841 non-null  object \n",
            " 5   Installs        10841 non-null  object \n",
            " 6   Type            10840 non-null  object \n",
            " 7   Price           10841 non-null  object \n",
            " 8   Content Rating  10840 non-null  object \n",
            " 9   Genres          10841 non-null  object \n",
            " 10  Last Updated    10841 non-null  object \n",
            " 11  Current Ver     10833 non-null  object \n",
            " 12  Android Ver     10838 non-null  object \n",
            "dtypes: float64(1), object(12)\n",
            "memory usage: 1.1+ MB\n",
            "\n",
            "\n",
            "User Reviews Data Info:\n",
            "<class 'pandas.core.frame.DataFrame'>\n",
            "RangeIndex: 64295 entries, 0 to 64294\n",
            "Data columns (total 5 columns):\n",
            " #   Column                  Non-Null Count  Dtype  \n",
            "---  ------                  --------------  -----  \n",
            " 0   App                     64295 non-null  object \n",
            " 1   Translated_Review       37427 non-null  object \n",
            " 2   Sentiment               37432 non-null  object \n",
            " 3   Sentiment_Polarity      37432 non-null  float64\n",
            " 4   Sentiment_Subjectivity  37432 non-null  float64\n",
            "dtypes: float64(2), object(3)\n",
            "memory usage: 2.5+ MB\n"
          ]
        }
      ]
    },
    {
      "cell_type": "markdown",
      "source": [
        "#### Duplicate Values"
      ],
      "metadata": {
        "id": "35m5QtbWiB9F"
      }
    },
    {
      "cell_type": "code",
      "source": [
        "# Dataset Duplicate Value Count\n",
        "print('Play Store Data Duplicate Value Count:',len(df_psdata[df_psdata.duplicated()]))\n",
        "print('User Reviews Data Duplicate Value Count:',len(df_review[df_review.duplicated()]))\n"
      ],
      "metadata": {
        "id": "1sLdpKYkmox0",
        "colab": {
          "base_uri": "https://localhost:8080/"
        },
        "outputId": "557eca40-9635-483e-f64c-7113ad4875b5"
      },
      "execution_count": null,
      "outputs": [
        {
          "output_type": "stream",
          "name": "stdout",
          "text": [
            "Play Store Data Duplicate Value Count: 483\n",
            "User Reviews Data Duplicate Value Count: 33616\n"
          ]
        }
      ]
    },
    {
      "cell_type": "markdown",
      "source": [
        "#### Missing Values/Null Values"
      ],
      "metadata": {
        "id": "PoPl-ycgm1ru"
      }
    },
    {
      "cell_type": "code",
      "source": [
        "# Missing Values/Null Values Count\n",
        "# Function to calculate the percentage of null values in each column\n",
        "def null_percent(data_fm):\n",
        "    null_info = pd.DataFrame(index=data_fm.columns)\n",
        "    null_info[\"datatype\"] = data_fm.dtypes\n",
        "    null_info[\"not null values\"] = data_fm.count()\n",
        "    null_info[\"null value\"] = data_fm.isnull().sum()\n",
        "    null_info[\"null value(%)\"] = round(data_fm.isnull().mean() * 100, 2)\n",
        "    return null_info\n",
        "\n",
        "# Display the percentage of null values for Play Store Data\n",
        "print('Null value % in Play Store Data:', null_percent(df_psdata), sep='\\n')\n",
        "print('\\n')\n",
        "# Display the percentage of null values for User Reviews Data\n",
        "print('Null value % in User Reviews Data:', null_percent(df_review), sep='\\n')\n"
      ],
      "metadata": {
        "id": "GgHWkxvamxVg",
        "colab": {
          "base_uri": "https://localhost:8080/"
        },
        "outputId": "af2925f2-b2c0-45e2-be9a-8f389c0f8b4c"
      },
      "execution_count": null,
      "outputs": [
        {
          "output_type": "stream",
          "name": "stdout",
          "text": [
            "Null value % in Play Store Data:\n",
            "               datatype  not null values  null value  null value(%)\n",
            "App              object            10841           0           0.00\n",
            "Category         object            10841           0           0.00\n",
            "Rating          float64             9367        1474          13.60\n",
            "Reviews          object            10841           0           0.00\n",
            "Size             object            10841           0           0.00\n",
            "Installs         object            10841           0           0.00\n",
            "Type             object            10840           1           0.01\n",
            "Price            object            10841           0           0.00\n",
            "Content Rating   object            10840           1           0.01\n",
            "Genres           object            10841           0           0.00\n",
            "Last Updated     object            10841           0           0.00\n",
            "Current Ver      object            10833           8           0.07\n",
            "Android Ver      object            10838           3           0.03\n",
            "\n",
            "\n",
            "Null value % in User Reviews Data:\n",
            "                       datatype  not null values  null value  null value(%)\n",
            "App                      object            64295           0           0.00\n",
            "Translated_Review        object            37427       26868          41.79\n",
            "Sentiment                object            37432       26863          41.78\n",
            "Sentiment_Polarity      float64            37432       26863          41.78\n",
            "Sentiment_Subjectivity  float64            37432       26863          41.78\n"
          ]
        }
      ]
    },
    {
      "cell_type": "markdown",
      "source": [
        "## ***2. Understanding Your Variables***"
      ],
      "metadata": {
        "id": "nA9Y7ga8ng1Z"
      }
    },
    {
      "cell_type": "code",
      "source": [
        "# Dataset Description\n",
        "print('Play Store Dataset Description:',df_psdata.describe(include='all'),sep='\\n',end='\\n\\n')\n",
        "print('User Reviews Dataset Description:',df_review.describe(include='all'),sep='\\n')\n"
      ],
      "metadata": {
        "id": "DnOaZdaE5Q5t",
        "colab": {
          "base_uri": "https://localhost:8080/"
        },
        "outputId": "952eedbe-aff8-44e4-d62a-17c5eeb24246"
      },
      "execution_count": null,
      "outputs": [
        {
          "output_type": "stream",
          "name": "stdout",
          "text": [
            "Play Store Dataset Description:\n",
            "           App Category       Rating Reviews                Size    Installs  \\\n",
            "count    10841    10841  9367.000000   10841               10841       10841   \n",
            "unique    9660       34          NaN    6002                 462          22   \n",
            "top     ROBLOX   FAMILY          NaN       0  Varies with device  1,000,000+   \n",
            "freq         9     1972          NaN     596                1695        1579   \n",
            "mean       NaN      NaN     4.193338     NaN                 NaN         NaN   \n",
            "std        NaN      NaN     0.537431     NaN                 NaN         NaN   \n",
            "min        NaN      NaN     1.000000     NaN                 NaN         NaN   \n",
            "25%        NaN      NaN     4.000000     NaN                 NaN         NaN   \n",
            "50%        NaN      NaN     4.300000     NaN                 NaN         NaN   \n",
            "75%        NaN      NaN     4.500000     NaN                 NaN         NaN   \n",
            "max        NaN      NaN    19.000000     NaN                 NaN         NaN   \n",
            "\n",
            "         Type  Price Content Rating Genres    Last Updated  \\\n",
            "count   10840  10841          10840  10841           10841   \n",
            "unique      3     93              6    120            1378   \n",
            "top      Free      0       Everyone  Tools  August 3, 2018   \n",
            "freq    10039  10040           8714    842             326   \n",
            "mean      NaN    NaN            NaN    NaN             NaN   \n",
            "std       NaN    NaN            NaN    NaN             NaN   \n",
            "min       NaN    NaN            NaN    NaN             NaN   \n",
            "25%       NaN    NaN            NaN    NaN             NaN   \n",
            "50%       NaN    NaN            NaN    NaN             NaN   \n",
            "75%       NaN    NaN            NaN    NaN             NaN   \n",
            "max       NaN    NaN            NaN    NaN             NaN   \n",
            "\n",
            "               Current Ver Android Ver  \n",
            "count                10833       10838  \n",
            "unique                2832          33  \n",
            "top     Varies with device  4.1 and up  \n",
            "freq                  1459        2451  \n",
            "mean                   NaN         NaN  \n",
            "std                    NaN         NaN  \n",
            "min                    NaN         NaN  \n",
            "25%                    NaN         NaN  \n",
            "50%                    NaN         NaN  \n",
            "75%                    NaN         NaN  \n",
            "max                    NaN         NaN  \n",
            "\n",
            "User Reviews Dataset Description:\n",
            "                        App Translated_Review Sentiment  Sentiment_Polarity  \\\n",
            "count                 64295             37427     37432        37432.000000   \n",
            "unique                 1074             27994         3                 NaN   \n",
            "top     Angry Birds Classic              Good  Positive                 NaN   \n",
            "freq                    320               247     23998                 NaN   \n",
            "mean                    NaN               NaN       NaN            0.182146   \n",
            "std                     NaN               NaN       NaN            0.351301   \n",
            "min                     NaN               NaN       NaN           -1.000000   \n",
            "25%                     NaN               NaN       NaN            0.000000   \n",
            "50%                     NaN               NaN       NaN            0.150000   \n",
            "75%                     NaN               NaN       NaN            0.400000   \n",
            "max                     NaN               NaN       NaN            1.000000   \n",
            "\n",
            "        Sentiment_Subjectivity  \n",
            "count             37432.000000  \n",
            "unique                     NaN  \n",
            "top                        NaN  \n",
            "freq                       NaN  \n",
            "mean                  0.492704  \n",
            "std                   0.259949  \n",
            "min                   0.000000  \n",
            "25%                   0.357143  \n",
            "50%                   0.514286  \n",
            "75%                   0.650000  \n",
            "max                   1.000000  \n"
          ]
        }
      ]
    },
    {
      "cell_type": "markdown",
      "source": [
        "### Variables Description"
      ],
      "metadata": {
        "id": "PBTbrJXOngz2"
      }
    },
    {
      "cell_type": "markdown",
      "source": [
        "###Descriptions for Play Store Dataset:\n",
        "\n",
        "**App:** The application's name and a brief description.\n",
        "\n",
        "**Category:** The app's assigned category.\n",
        "\n",
        "**Rating:** The average user rating.\n",
        "\n",
        "**Reviews:** The total number of user reviews.\n",
        "\n",
        "**Size:** The space the app occupies on a mobile phone.\n",
        "\n",
        "**Installs:** The overall installations or downloads.\n",
        "\n",
        "**Type:** Indicates whether the app is free or paid.\n",
        "\n",
        "**Price:** The installation cost. For free apps, the price is zero.\n",
        "\n",
        "**Content Rating:** Specifies if the app is suitable for all age groups.\n",
        "\n",
        "**Genres:** Various categories to which an app can belong.\n",
        "\n",
        "**Last Updated:** The date of the app's last update.\n",
        "\n",
        "**Current Ver:** The app's current version.\n",
        "\n",
        "**Android Ver:** The Android version supporting the app.\n",
        "\n",
        "###Descriptions for User Reviews Dataset:\n",
        "\n",
        "**App:** The app's name with a brief description.\n",
        "\n",
        "**Translated_Review:** English translation of the user's review.\n",
        "\n",
        "**Sentiment:** The reviewer’s attitude categorized as 'Positive', 'Negative', or 'Neutral'.\n",
        "\n",
        "**Sentiment_Polarity:** The review's polarity, ranging from -1 (Negative) to 1 (Positive).\n",
        "\n",
        "**Sentiment_Subjectivity:** The score indicates the degree to which a reviewer’s opinion aligns with the general public’s opinion, with a range of [0, 1]. Higher scores suggest opinions closer to the general public, while lower scores indicate more factual information in the review"
      ],
      "metadata": {
        "id": "aJV4KIxSnxay"
      }
    },
    {
      "cell_type": "markdown",
      "source": [
        "### Check Unique Values for each variable."
      ],
      "metadata": {
        "id": "u3PMJOP6ngxN"
      }
    },
    {
      "cell_type": "code",
      "source": [
        "# Check Unique Values for each variable.\n",
        "# Printing unique values for each variable in the Play Store Dataset\n",
        "print('Unique Values for each variable in Play Store Dataset:', end='\\n\\n')\n",
        "\n",
        "for i in df_psdata.columns.tolist():\n",
        "    print(\"No. of unique values in \", i, \"is ->\", df_psdata[i].nunique())\n",
        "\n",
        "print('\\n')\n",
        "\n",
        "# Printing unique values for each variable in the User Reviews Dataset\n",
        "print('Unique Values for each variable in User Reviews Dataset:', end='\\n\\n')\n",
        "\n",
        "for i in df_review.columns.tolist():\n",
        "    print(\"No. of unique values in \", i, \"is ->\", df_review[i].nunique())\n"
      ],
      "metadata": {
        "id": "zms12Yq5n-jE",
        "colab": {
          "base_uri": "https://localhost:8080/"
        },
        "outputId": "c1ae7c92-607e-421b-e6e8-e711531e931b"
      },
      "execution_count": null,
      "outputs": [
        {
          "output_type": "stream",
          "name": "stdout",
          "text": [
            "Unique Values for each variable in Play Store Dataset:\n",
            "\n",
            "No. of unique values in  App is -> 9660\n",
            "No. of unique values in  Category is -> 34\n",
            "No. of unique values in  Rating is -> 40\n",
            "No. of unique values in  Reviews is -> 6002\n",
            "No. of unique values in  Size is -> 462\n",
            "No. of unique values in  Installs is -> 22\n",
            "No. of unique values in  Type is -> 3\n",
            "No. of unique values in  Price is -> 93\n",
            "No. of unique values in  Content Rating is -> 6\n",
            "No. of unique values in  Genres is -> 120\n",
            "No. of unique values in  Last Updated is -> 1378\n",
            "No. of unique values in  Current Ver is -> 2832\n",
            "No. of unique values in  Android Ver is -> 33\n",
            "\n",
            "\n",
            "Unique Values for each variable in User Reviews Dataset:\n",
            "\n",
            "No. of unique values in  App is -> 1074\n",
            "No. of unique values in  Translated_Review is -> 27994\n",
            "No. of unique values in  Sentiment is -> 3\n",
            "No. of unique values in  Sentiment_Polarity is -> 5410\n",
            "No. of unique values in  Sentiment_Subjectivity is -> 4474\n"
          ]
        }
      ]
    },
    {
      "cell_type": "markdown",
      "source": [
        "## 3. ***Data Wrangling***"
      ],
      "metadata": {
        "id": "dauF4eBmngu3"
      }
    },
    {
      "cell_type": "markdown",
      "source": [
        "### Data Wrangling Code"
      ],
      "metadata": {
        "id": "bKJF3rekwFvQ"
      }
    },
    {
      "cell_type": "code",
      "source": [
        "# Print the rows with non-numeric characters in the 'Reviews' column\n",
        "non_numeric_reviews = df_psdata[df_psdata['Reviews'].str.contains(r'\\D')]\n",
        "print(\"Rows with non-numeric characters in 'Reviews' column:\")\n",
        "non_numeric_reviews\n"
      ],
      "metadata": {
        "colab": {
          "base_uri": "https://localhost:8080/",
          "height": 133
        },
        "id": "NaDDsQglG7NL",
        "outputId": "2c0bae71-2975-4bca-9ee6-1c84ace319dc"
      },
      "execution_count": null,
      "outputs": [
        {
          "output_type": "stream",
          "name": "stdout",
          "text": [
            "Rows with non-numeric characters in 'Reviews' column:\n"
          ]
        },
        {
          "output_type": "execute_result",
          "data": {
            "text/plain": [
              "                                           App Category  Rating Reviews  \\\n",
              "10472  Life Made WI-Fi Touchscreen Photo Frame      1.9    19.0    3.0M   \n",
              "\n",
              "         Size Installs Type     Price Content Rating             Genres  \\\n",
              "10472  1,000+     Free    0  Everyone            NaN  February 11, 2018   \n",
              "\n",
              "      Last Updated Current Ver Android Ver  \n",
              "10472       1.0.19  4.0 and up         NaN  "
            ],
            "text/html": [
              "\n",
              "  <div id=\"df-1b4ea63e-52a5-4308-9960-c151897672a6\" class=\"colab-df-container\">\n",
              "    <div>\n",
              "<style scoped>\n",
              "    .dataframe tbody tr th:only-of-type {\n",
              "        vertical-align: middle;\n",
              "    }\n",
              "\n",
              "    .dataframe tbody tr th {\n",
              "        vertical-align: top;\n",
              "    }\n",
              "\n",
              "    .dataframe thead th {\n",
              "        text-align: right;\n",
              "    }\n",
              "</style>\n",
              "<table border=\"1\" class=\"dataframe\">\n",
              "  <thead>\n",
              "    <tr style=\"text-align: right;\">\n",
              "      <th></th>\n",
              "      <th>App</th>\n",
              "      <th>Category</th>\n",
              "      <th>Rating</th>\n",
              "      <th>Reviews</th>\n",
              "      <th>Size</th>\n",
              "      <th>Installs</th>\n",
              "      <th>Type</th>\n",
              "      <th>Price</th>\n",
              "      <th>Content Rating</th>\n",
              "      <th>Genres</th>\n",
              "      <th>Last Updated</th>\n",
              "      <th>Current Ver</th>\n",
              "      <th>Android Ver</th>\n",
              "    </tr>\n",
              "  </thead>\n",
              "  <tbody>\n",
              "    <tr>\n",
              "      <th>10472</th>\n",
              "      <td>Life Made WI-Fi Touchscreen Photo Frame</td>\n",
              "      <td>1.9</td>\n",
              "      <td>19.0</td>\n",
              "      <td>3.0M</td>\n",
              "      <td>1,000+</td>\n",
              "      <td>Free</td>\n",
              "      <td>0</td>\n",
              "      <td>Everyone</td>\n",
              "      <td>NaN</td>\n",
              "      <td>February 11, 2018</td>\n",
              "      <td>1.0.19</td>\n",
              "      <td>4.0 and up</td>\n",
              "      <td>NaN</td>\n",
              "    </tr>\n",
              "  </tbody>\n",
              "</table>\n",
              "</div>\n",
              "    <div class=\"colab-df-buttons\">\n",
              "\n",
              "  <div class=\"colab-df-container\">\n",
              "    <button class=\"colab-df-convert\" onclick=\"convertToInteractive('df-1b4ea63e-52a5-4308-9960-c151897672a6')\"\n",
              "            title=\"Convert this dataframe to an interactive table.\"\n",
              "            style=\"display:none;\">\n",
              "\n",
              "  <svg xmlns=\"http://www.w3.org/2000/svg\" height=\"24px\" viewBox=\"0 -960 960 960\">\n",
              "    <path d=\"M120-120v-720h720v720H120Zm60-500h600v-160H180v160Zm220 220h160v-160H400v160Zm0 220h160v-160H400v160ZM180-400h160v-160H180v160Zm440 0h160v-160H620v160ZM180-180h160v-160H180v160Zm440 0h160v-160H620v160Z\"/>\n",
              "  </svg>\n",
              "    </button>\n",
              "\n",
              "  <style>\n",
              "    .colab-df-container {\n",
              "      display:flex;\n",
              "      gap: 12px;\n",
              "    }\n",
              "\n",
              "    .colab-df-convert {\n",
              "      background-color: #E8F0FE;\n",
              "      border: none;\n",
              "      border-radius: 50%;\n",
              "      cursor: pointer;\n",
              "      display: none;\n",
              "      fill: #1967D2;\n",
              "      height: 32px;\n",
              "      padding: 0 0 0 0;\n",
              "      width: 32px;\n",
              "    }\n",
              "\n",
              "    .colab-df-convert:hover {\n",
              "      background-color: #E2EBFA;\n",
              "      box-shadow: 0px 1px 2px rgba(60, 64, 67, 0.3), 0px 1px 3px 1px rgba(60, 64, 67, 0.15);\n",
              "      fill: #174EA6;\n",
              "    }\n",
              "\n",
              "    .colab-df-buttons div {\n",
              "      margin-bottom: 4px;\n",
              "    }\n",
              "\n",
              "    [theme=dark] .colab-df-convert {\n",
              "      background-color: #3B4455;\n",
              "      fill: #D2E3FC;\n",
              "    }\n",
              "\n",
              "    [theme=dark] .colab-df-convert:hover {\n",
              "      background-color: #434B5C;\n",
              "      box-shadow: 0px 1px 3px 1px rgba(0, 0, 0, 0.15);\n",
              "      filter: drop-shadow(0px 1px 2px rgba(0, 0, 0, 0.3));\n",
              "      fill: #FFFFFF;\n",
              "    }\n",
              "  </style>\n",
              "\n",
              "    <script>\n",
              "      const buttonEl =\n",
              "        document.querySelector('#df-1b4ea63e-52a5-4308-9960-c151897672a6 button.colab-df-convert');\n",
              "      buttonEl.style.display =\n",
              "        google.colab.kernel.accessAllowed ? 'block' : 'none';\n",
              "\n",
              "      async function convertToInteractive(key) {\n",
              "        const element = document.querySelector('#df-1b4ea63e-52a5-4308-9960-c151897672a6');\n",
              "        const dataTable =\n",
              "          await google.colab.kernel.invokeFunction('convertToInteractive',\n",
              "                                                    [key], {});\n",
              "        if (!dataTable) return;\n",
              "\n",
              "        const docLinkHtml = 'Like what you see? Visit the ' +\n",
              "          '<a target=\"_blank\" href=https://colab.research.google.com/notebooks/data_table.ipynb>data table notebook</a>'\n",
              "          + ' to learn more about interactive tables.';\n",
              "        element.innerHTML = '';\n",
              "        dataTable['output_type'] = 'display_data';\n",
              "        await google.colab.output.renderOutput(dataTable, element);\n",
              "        const docLink = document.createElement('div');\n",
              "        docLink.innerHTML = docLinkHtml;\n",
              "        element.appendChild(docLink);\n",
              "      }\n",
              "    </script>\n",
              "  </div>\n",
              "\n",
              "\n",
              "  <div id=\"id_e3505fe8-f959-4546-9278-a2956ea83d8b\">\n",
              "    <style>\n",
              "      .colab-df-generate {\n",
              "        background-color: #E8F0FE;\n",
              "        border: none;\n",
              "        border-radius: 50%;\n",
              "        cursor: pointer;\n",
              "        display: none;\n",
              "        fill: #1967D2;\n",
              "        height: 32px;\n",
              "        padding: 0 0 0 0;\n",
              "        width: 32px;\n",
              "      }\n",
              "\n",
              "      .colab-df-generate:hover {\n",
              "        background-color: #E2EBFA;\n",
              "        box-shadow: 0px 1px 2px rgba(60, 64, 67, 0.3), 0px 1px 3px 1px rgba(60, 64, 67, 0.15);\n",
              "        fill: #174EA6;\n",
              "      }\n",
              "\n",
              "      [theme=dark] .colab-df-generate {\n",
              "        background-color: #3B4455;\n",
              "        fill: #D2E3FC;\n",
              "      }\n",
              "\n",
              "      [theme=dark] .colab-df-generate:hover {\n",
              "        background-color: #434B5C;\n",
              "        box-shadow: 0px 1px 3px 1px rgba(0, 0, 0, 0.15);\n",
              "        filter: drop-shadow(0px 1px 2px rgba(0, 0, 0, 0.3));\n",
              "        fill: #FFFFFF;\n",
              "      }\n",
              "    </style>\n",
              "    <button class=\"colab-df-generate\" onclick=\"generateWithVariable('non_numeric_reviews')\"\n",
              "            title=\"Generate code using this dataframe.\"\n",
              "            style=\"display:none;\">\n",
              "\n",
              "  <svg xmlns=\"http://www.w3.org/2000/svg\" height=\"24px\"viewBox=\"0 0 24 24\"\n",
              "       width=\"24px\">\n",
              "    <path d=\"M7,19H8.4L18.45,9,17,7.55,7,17.6ZM5,21V16.75L18.45,3.32a2,2,0,0,1,2.83,0l1.4,1.43a1.91,1.91,0,0,1,.58,1.4,1.91,1.91,0,0,1-.58,1.4L9.25,21ZM18.45,9,17,7.55Zm-12,3A5.31,5.31,0,0,0,4.9,8.1,5.31,5.31,0,0,0,1,6.5,5.31,5.31,0,0,0,4.9,4.9,5.31,5.31,0,0,0,6.5,1,5.31,5.31,0,0,0,8.1,4.9,5.31,5.31,0,0,0,12,6.5,5.46,5.46,0,0,0,6.5,12Z\"/>\n",
              "  </svg>\n",
              "    </button>\n",
              "    <script>\n",
              "      (() => {\n",
              "      const buttonEl =\n",
              "        document.querySelector('#id_e3505fe8-f959-4546-9278-a2956ea83d8b button.colab-df-generate');\n",
              "      buttonEl.style.display =\n",
              "        google.colab.kernel.accessAllowed ? 'block' : 'none';\n",
              "\n",
              "      buttonEl.onclick = () => {\n",
              "        google.colab.notebook.generateWithVariable('non_numeric_reviews');\n",
              "      }\n",
              "      })();\n",
              "    </script>\n",
              "  </div>\n",
              "\n",
              "    </div>\n",
              "  </div>\n"
            ]
          },
          "metadata": {},
          "execution_count": 39
        }
      ]
    },
    {
      "cell_type": "code",
      "source": [
        "# The row at index 10472 contains data that is entirely incorrect or irrelevant.\n",
        "# The row is deemed unusable or misleading for the analysis, and removing it ensures the integrity and accuracy of the overall dataset.\n",
        "df_psdata = df_psdata.drop(index=10472)\n",
        "\n",
        "# Resetting the index ensures that the DataFrame has continuous and ordered indices after dropping a row.\n",
        "df_psdata = df_psdata.reset_index(drop=True)\n"
      ],
      "metadata": {
        "id": "EBNQbEU9VjLk"
      },
      "execution_count": null,
      "outputs": []
    },
    {
      "cell_type": "code",
      "source": [
        "# Convert the 'Reviews' column to integer datatype\n",
        "df_psdata['Reviews'] = df_psdata['Reviews'].astype(int)\n"
      ],
      "metadata": {
        "id": "4e7YB_dspvMj"
      },
      "execution_count": null,
      "outputs": []
    },
    {
      "cell_type": "code",
      "source": [
        "# Convert the 'Last Updated' column to dates\n",
        "df_psdata['Last Updated'] = pd.to_datetime(df_psdata['Last Updated']).dt.date\n"
      ],
      "metadata": {
        "id": "xyE1fIx450JU"
      },
      "execution_count": null,
      "outputs": []
    },
    {
      "cell_type": "code",
      "source": [
        "# Creating a function drop_dollar, which drops the $ symbol if present and returns the value as a float.\n",
        "def drop_dollar(value):\n",
        "\n",
        "    if '$' in value:\n",
        "        return float(value[1:])\n",
        "    else:\n",
        "        return float(value)\n",
        "\n",
        "# Applying the drop_dollar function to the 'Price' column\n",
        "df_psdata['Price'] = df_psdata['Price'].apply(lambda x: drop_dollar(x))\n"
      ],
      "metadata": {
        "id": "hbulCVk28FLV"
      },
      "execution_count": null,
      "outputs": []
    },
    {
      "cell_type": "code",
      "source": [
        "# Defining a function drop_plus that removes the '+' symbol if present and returns the result as an integer.\n",
        "\n",
        "def drop_plus(value):\n",
        "    '''\n",
        "    This function drops the + symbol if present and returns the value with int datatype.\n",
        "    If the value is not a valid integer, return 0.\n",
        "    '''\n",
        "    try:\n",
        "        if '+' and ',' in value:\n",
        "            return int(value[:-1].replace(',', ''))\n",
        "        elif '+' in value:\n",
        "            return int(value[:-1])\n",
        "        else:\n",
        "            return int(value)\n",
        "    except ValueError:\n",
        "        return 0\n",
        "    '''\n",
        "    The 'Installs' column now contains integer values representing the minimum number of times an app has been installed.\n",
        "    An 'Installs' value of 0 means the app has not been installed.\n",
        "    An 'Installs' value of 1 means the app has been installed at least once.\n",
        "    An 'Installs' value of 1000000 means the app has been installed by at least one million users, and so on.\n",
        "    '''\n",
        "# The drop_plus function applied to the 'Installs' column\n",
        "df_psdata['Installs'] = df_psdata['Installs'].apply(lambda x: drop_plus(x))\n"
      ],
      "metadata": {
        "id": "DzEv4T9T9fo1"
      },
      "execution_count": null,
      "outputs": []
    },
    {
      "cell_type": "code",
      "source": [
        "# Defining a function to convert all the entries in KB to MB and then converting them to float datatype.\n",
        "\n",
        "def kb_to_mb(entry):\n",
        "    '''\n",
        "    Converts size entries to MB. Returns as a float if in megabytes (M), or converts and rounds to 4 decimal places if in kilobytes (k).\n",
        "    Returns the original entry if not in either format or if any conversion exception occurs.\n",
        "    '''\n",
        "    try:\n",
        "        if 'M' in entry:\n",
        "            return float(entry[:-1])\n",
        "        elif 'k' in entry:\n",
        "            return round(float(entry[:-1]) / 1024, 4)\n",
        "        else:\n",
        "            return entry\n",
        "    except:\n",
        "        return entry\n",
        "\n",
        "# The kb_to_mb funtion applied to the size column\n",
        "df_psdata['Size'] = df_psdata['Size'].apply(lambda x: kb_to_mb(x))\n",
        "\n",
        "# Renaming the 'Size' column to 'Size (MB)'.\n",
        "df_psdata.rename(columns={'Size': 'Size (MB)'}, inplace=True)\n"
      ],
      "metadata": {
        "id": "M3puL339-0dK"
      },
      "execution_count": null,
      "outputs": []
    },
    {
      "cell_type": "code",
      "source": [
        "# Verifying the data type information after type conversion\n",
        "print('Play Store Updated Data Info:')\n",
        "df_psdata.info()\n"
      ],
      "metadata": {
        "colab": {
          "base_uri": "https://localhost:8080/"
        },
        "id": "tlpUQQvQ7qcT",
        "outputId": "ec72a3da-430f-49a2-cc4e-d104ce983e56"
      },
      "execution_count": null,
      "outputs": [
        {
          "output_type": "stream",
          "name": "stdout",
          "text": [
            "Play Store Updated Data Info:\n",
            "<class 'pandas.core.frame.DataFrame'>\n",
            "RangeIndex: 10840 entries, 0 to 10839\n",
            "Data columns (total 13 columns):\n",
            " #   Column          Non-Null Count  Dtype  \n",
            "---  ------          --------------  -----  \n",
            " 0   App             10840 non-null  object \n",
            " 1   Category        10840 non-null  object \n",
            " 2   Rating          9366 non-null   float64\n",
            " 3   Reviews         10840 non-null  int64  \n",
            " 4   Size (MB)       10840 non-null  object \n",
            " 5   Installs        10840 non-null  int64  \n",
            " 6   Type            10839 non-null  object \n",
            " 7   Price           10840 non-null  float64\n",
            " 8   Content Rating  10840 non-null  object \n",
            " 9   Genres          10840 non-null  object \n",
            " 10  Last Updated    10840 non-null  object \n",
            " 11  Current Ver     10832 non-null  object \n",
            " 12  Android Ver     10838 non-null  object \n",
            "dtypes: float64(2), int64(2), object(9)\n",
            "memory usage: 1.1+ MB\n"
          ]
        }
      ]
    },
    {
      "cell_type": "code",
      "source": [
        "# Extract non-float values in 'Size' column\n",
        "non_float_size_values = df_psdata['Size (MB)'][~df_psdata['Size (MB)'].apply(lambda x: isinstance(x, float))]\n",
        "\n",
        "# Calculate the percentage of non-float values in 'Size' column\n",
        "percentage_non_float = (len(non_float_size_values) / len(df_psdata['Size (MB)'])) * 100\n",
        "\n",
        "# Print the result\n",
        "print(f\"Non-float values in the 'Size (MB)' column: {non_float_size_values.unique()}\")\n",
        "print(f\"Percentage of non-float values in the 'Size (MB)' column: {percentage_non_float:.2f}%\")\n",
        "\n",
        "\n",
        "#Varies with device- being the only non-float entry, constituting 15.64%,\n",
        "#led to the decision to retain rows with this value in the 'Size' column.\n"
      ],
      "metadata": {
        "colab": {
          "base_uri": "https://localhost:8080/"
        },
        "id": "frVodm5MAq_P",
        "outputId": "7d31bbc5-b762-41ea-884b-c5b9b25c4347"
      },
      "execution_count": null,
      "outputs": [
        {
          "output_type": "stream",
          "name": "stdout",
          "text": [
            "Non-float values in the 'Size (MB)' column: ['Varies with device']\n",
            "Percentage of non-float values in the 'Size (MB)' column: 15.64%\n"
          ]
        }
      ]
    },
    {
      "cell_type": "code",
      "source": [
        "# Show Dataset Rows & Columns count Before Removing Duplicates\n",
        "print('Shape Before Removing Duplicates:')\n",
        "print('Play Store Data Rows count:',df_psdata.shape[0])\n",
        "print('Play Store Data Columns count:',df_psdata.shape[1])\n",
        "print('User Reviews Data Rows count:',df_review.shape[0])\n",
        "print('User Reviews Data Columns count:',df_review.shape[1],end='\\n\\n')\n",
        "\n",
        "# Remove duplicates\n",
        "df_review.drop_duplicates(inplace=True)\n",
        "df_psdata.drop_duplicates(inplace=True)\n",
        "\n",
        "# Show Dataset Rows & Columns count After Removing Duplicates\n",
        "print('Shape After Removing Duplicates:')\n",
        "print('Play Store Data Rows count:',df_psdata.shape[0])\n",
        "print('Play Store Data Columns count:',df_psdata.shape[1])\n",
        "print('User Reviews Data Rows count:',df_review.shape[0])\n",
        "print('User Reviews Data Columns count:',df_review.shape[1])\n"
      ],
      "metadata": {
        "colab": {
          "base_uri": "https://localhost:8080/"
        },
        "id": "c1LWHkBe8_vG",
        "outputId": "e35f0d3b-9649-47cb-ccbc-44b9ecf5bad1"
      },
      "execution_count": null,
      "outputs": [
        {
          "output_type": "stream",
          "name": "stdout",
          "text": [
            "Shape Before Removing Duplicates:\n",
            "Play Store Data Rows count: 10840\n",
            "Play Store Data Columns count: 13\n",
            "User Reviews Data Rows count: 64295\n",
            "User Reviews Data Columns count: 5\n",
            "\n",
            "Shape After Removing Duplicates:\n",
            "Play Store Data Rows count: 10357\n",
            "Play Store Data Columns count: 13\n",
            "User Reviews Data Rows count: 30679\n",
            "User Reviews Data Columns count: 5\n"
          ]
        }
      ]
    },
    {
      "cell_type": "code",
      "source": [
        "# Fill missing values for numerical columns with the median and categorical with the mode\n",
        "# For Play Store\n",
        "df_psdata['Rating'].fillna(df_psdata['Rating'].median(), inplace=True)\n",
        "df_psdata['Type'].fillna(df_psdata['Type'].mode()[0], inplace=True)\n",
        "df_psdata['Content Rating'].fillna(df_psdata['Content Rating'].mode()[0], inplace=True)\n",
        "df_psdata['Current Ver'].fillna('Varies with device', inplace=True)\n",
        "df_psdata['Android Ver'].fillna('Varies with device', inplace=True)\n",
        "\n",
        "# For User Reviews\n",
        "df_review['Sentiment_Polarity'].fillna(df_review['Sentiment_Polarity'].median(), inplace=True)\n",
        "df_review['Sentiment_Subjectivity'].fillna(df_review['Sentiment_Subjectivity'].median(), inplace=True)\n",
        "df_review['Sentiment'].fillna(df_review['Sentiment'].mode()[0], inplace=True)\n",
        "df_review['Translated_Review'].fillna('No review', inplace=True)\n",
        "\n",
        "# Check missing values again to confirm\n",
        "user_reviews_missing_updated = df_review.isnull().sum()\n",
        "play_store_missing_updated = df_psdata.isnull().sum()\n",
        "\n",
        "print('\\nUpdated number of missing values in Play Store dataset:')\n",
        "print(play_store_missing_updated)\n",
        "print('Updated number of missing values in User Reviews dataset:')\n",
        "print(user_reviews_missing_updated)\n"
      ],
      "metadata": {
        "id": "wk-9a2fpoLcV",
        "colab": {
          "base_uri": "https://localhost:8080/"
        },
        "outputId": "dffec086-25ea-4804-e613-5149811e1653"
      },
      "execution_count": null,
      "outputs": [
        {
          "output_type": "stream",
          "name": "stdout",
          "text": [
            "\n",
            "Updated number of missing values in Play Store dataset:\n",
            "App               0\n",
            "Category          0\n",
            "Rating            0\n",
            "Reviews           0\n",
            "Size (MB)         0\n",
            "Installs          0\n",
            "Type              0\n",
            "Price             0\n",
            "Content Rating    0\n",
            "Genres            0\n",
            "Last Updated      0\n",
            "Current Ver       0\n",
            "Android Ver       0\n",
            "dtype: int64\n",
            "Updated number of missing values in User Reviews dataset:\n",
            "App                       0\n",
            "Translated_Review         0\n",
            "Sentiment                 0\n",
            "Sentiment_Polarity        0\n",
            "Sentiment_Subjectivity    0\n",
            "dtype: int64\n"
          ]
        }
      ]
    },
    {
      "cell_type": "code",
      "source": [
        "# Visualizing Outliers through Box Plots\n",
        "# Set up the figure with subplots\n",
        "fig, axes = plt.subplots(1, 2, figsize=(10, 5))\n",
        "\n",
        "# Box plot for Reviews\n",
        "sns.boxplot(ax=axes[0], x=df_psdata['Reviews'])\n",
        "axes[0].set_title('Box Plot - Reviews')\n",
        "\n",
        "# Box plot for Installs\n",
        "sns.boxplot(ax=axes[1], x=df_psdata['Installs'])\n",
        "axes[1].set_title('Box Plot - Installs')\n",
        "\n",
        "# Adjust layout\n",
        "plt.tight_layout()\n",
        "\n",
        "# Show the plots\n",
        "plt.show()\n"
      ],
      "metadata": {
        "colab": {
          "base_uri": "https://localhost:8080/",
          "height": 507
        },
        "id": "5MB0PG2pRrmI",
        "outputId": "856df55e-651c-4b2a-a905-9a46a93c6994"
      },
      "execution_count": null,
      "outputs": [
        {
          "output_type": "display_data",
          "data": {
            "text/plain": [
              "<Figure size 1000x500 with 2 Axes>"
            ],
            "image/png": "[encoded data removed]"
          },
          "metadata": {}
        }
      ]
    },
    {
      "cell_type": "code",
      "source": [
        "# Show Dataset Rows & Columns count Before Removing Outliers\n",
        "print('Shape Before Removing Outliers:')\n",
        "print('Play Store Data Rows count:',df_psdata.shape[0])\n",
        "print('Play Store Data Columns count:',df_psdata.shape[1])\n",
        "print('User Reviews Data Rows count:',df_review.shape[0])\n",
        "print('User Reviews Data Columns count:',df_review.shape[1],end='\\n\\n')\n",
        "\n",
        "# Removing Outliers from Data\n",
        "# Define the quantile range\n",
        "quantile_low = 0.05\n",
        "quantile_high = 0.95\n",
        "\n",
        "# Remove outliers for Reviews column\n",
        "df_psdata = df_psdata[(df_psdata['Reviews'] >= df_psdata['Reviews'].quantile(quantile_low)) &\n",
        "                      (df_psdata['Reviews'] <= df_psdata['Reviews'].quantile(quantile_high))]\n",
        "\n",
        "# Remove outliers for Installs column\n",
        "df_psdata = df_psdata[(df_psdata['Installs'] >= df_psdata['Installs'].quantile(quantile_low)) &\n",
        "                      (df_psdata['Installs'] <= df_psdata['Installs'].quantile(quantile_high))]\n",
        "\n",
        "# Show Dataset Rows & Columns count After Removing Outliers\n",
        "print('Shape After Removing Outliers:')\n",
        "print('Play Store Data Rows count:',df_psdata.shape[0])\n",
        "print('Play Store Data Columns count:',df_psdata.shape[1])\n",
        "print('User Reviews Data Rows count:',df_review.shape[0])\n",
        "print('User Reviews Data Columns count:',df_review.shape[1])\n"
      ],
      "metadata": {
        "colab": {
          "base_uri": "https://localhost:8080/"
        },
        "id": "W8AlzbW5Vj-I",
        "outputId": "2a8f592d-836e-4021-8980-5dcc781411ab"
      },
      "execution_count": null,
      "outputs": [
        {
          "output_type": "stream",
          "name": "stdout",
          "text": [
            "Shape Before Removing Outliers:\n",
            "Play Store Data Rows count: 10357\n",
            "Play Store Data Columns count: 13\n",
            "User Reviews Data Rows count: 30679\n",
            "User Reviews Data Columns count: 5\n",
            "\n",
            "Shape After Removing Outliers:\n",
            "Play Store Data Rows count: 9404\n",
            "Play Store Data Columns count: 13\n",
            "User Reviews Data Rows count: 30679\n",
            "User Reviews Data Columns count: 5\n"
          ]
        }
      ]
    },
    {
      "cell_type": "code",
      "source": [
        "# Dropping unnecessary columns for analysis from Play Store and User Reviews Dataset\n",
        "# Drop the 'Current Ver' column from df_psdata\n",
        "df_psdata = df_psdata.drop('Current Ver', axis=1)\n",
        "\n",
        "# Drop the 'Translated_Review' column from df_review\n",
        "df_review = df_review.drop('Translated_Review', axis=1)\n",
        "\n",
        "print('Shape After Removing Unnecessary Columns:')\n",
        "# Dataset Rows & Columns count\n",
        "print('Play Store Data Rows count:',df_psdata.shape[0])\n",
        "print('Play Store Data Columns count:',df_psdata.shape[1])\n",
        "print('User Reviews Data Rows count:',df_review.shape[0])\n",
        "print('User Reviews Data Columns count:',df_review.shape[1])\n"
      ],
      "metadata": {
        "colab": {
          "base_uri": "https://localhost:8080/"
        },
        "id": "aF-zbc9u9qb8",
        "outputId": "f6ad94b3-bc8c-4220-f30a-779241a75ff7"
      },
      "execution_count": null,
      "outputs": [
        {
          "output_type": "stream",
          "name": "stdout",
          "text": [
            "Shape After Removing Unnecessary Columns:\n",
            "Play Store Data Rows count: 9404\n",
            "Play Store Data Columns count: 12\n",
            "User Reviews Data Rows count: 30679\n",
            "User Reviews Data Columns count: 4\n"
          ]
        }
      ]
    },
    {
      "cell_type": "markdown",
      "source": [
        "### What all manipulations have you done and insights you found?"
      ],
      "metadata": {
        "id": "MSa1f5Uengrz"
      }
    },
    {
      "cell_type": "markdown",
      "source": [
        "The following actions were taken to make the datasets analysis-ready:\n",
        "\n",
        "1. **Identifying Non-Numeric Reviews:**\n",
        "   - Checked and printed rows with non-numeric characters in the 'Reviews' column.\n",
        "\n",
        "2. **Removing Irrelevant Row:**\n",
        "   - Dropped the row at index 10472 as it contained incorrect or irrelevant data, ensuring dataset integrity.\n",
        "\n",
        "3. **Converting Reviews to Integer:**\n",
        "   - Converted the 'Reviews' column to integer data type for numerical analysis.\n",
        "\n",
        "4. **Converting Last Updated to Datetime:**\n",
        "   - Converted the 'Last Updated' column to datetime format for temporal analysis.\n",
        "\n",
        "5. **Handling Price Values:**\n",
        "   - Created a function (`drop_dollar`) to drop the '$' symbol and convert the 'Price' column to float data type.\n",
        "\n",
        "6. **Handling Installs Values:**\n",
        "   - Created a function (`drop_plus`) to drop the '+' symbol and convert the 'Installs' column to integer data type.\n",
        "\n",
        "7. **Converting Size Entries:**\n",
        "   - Created a function (`kb_to_mb`) to convert size entries to MB and handle 'k' or 'M' units.\n",
        "\n",
        "8. **Verifying Data Types:**\n",
        "   - Checked and printed the updated data type information after the type conversion.\n",
        "\n",
        "9. **Removing Duplicates:**\n",
        "   - Removed duplicate rows from both the Play Store and User Reviews datasets.\n",
        "\n",
        "10. **Handling Missing Values:**\n",
        "    - Filled missing values for numerical columns with the median and categorical columns with the mode.\n",
        "    - Checked and printed the updated number of missing values in both datasets.\n",
        "\n",
        "11. **Handling Outliers:**\n",
        "    - Visualized outliers through box plots for Reviews and Installs.\n",
        "    - Removed outliers from data based on quantile range (5% to 95%) for Reviews and Installs.\n",
        "\n",
        "12. **Removing Unnecessary Columns:**\n",
        "   - Certain columns were considered non-significant to the analysis and were subsequently dropped. Specifically, the 'Current Ver' column in the Play Store Dataset (`df_psdata`) and the 'Translated_Review' column in the User Reviews Dataset (`df_review`) were excluded."
      ],
      "metadata": {
        "id": "LbyXE7I1olp8"
      }
    },
    {
      "cell_type": "markdown",
      "source": [
        "###Exporting Cleaned Data to Excel Files"
      ],
      "metadata": {
        "id": "N6v3C5tk3eIW"
      }
    },
    {
      "cell_type": "code",
      "source": [
        "# Saving the DataFrame as an Excel file\n",
        "df_psdata.to_excel('cleaned_psdata.xlsx', index=False)\n",
        "df_review.to_excel('cleaned_review.xlsx', index=False)\n"
      ],
      "metadata": {
        "id": "wDZzVILO3WJt"
      },
      "execution_count": null,
      "outputs": []
    },
    {
      "cell_type": "markdown",
      "source": [
        "##**Analysis by: Rohit Paul**\n",
        "\n",
        "##**Email: rohitpaul09@gmail.com**"
      ],
      "metadata": {
        "id": "i6ZP7Q6eAPJT"
      }
    }
  ]
}